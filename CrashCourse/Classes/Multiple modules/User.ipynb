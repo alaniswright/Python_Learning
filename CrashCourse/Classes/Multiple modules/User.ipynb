{
 "cells": [
  {
   "cell_type": "code",
   "execution_count": 6,
   "metadata": {},
   "outputs": [
    {
     "name": "stdout",
     "output_type": "stream",
     "text": [
      "Admin privileges: ['Can add post', 'Can delete post', 'Can ban user']\n"
     ]
    }
   ],
   "source": [
    "from userModule import user\n",
    "from adminPrivilegesModule import administrator, privileges\n",
    "\n",
    "alan_admin = administrator(\"Alan\", \"Wright\")\n",
    "alan_admin.privileges.show_privileges()"
   ]
  }
 ],
 "metadata": {
  "kernelspec": {
   "display_name": "Python 3",
   "language": "python",
   "name": "python3"
  },
  "language_info": {
   "codemirror_mode": {
    "name": "ipython",
    "version": 3
   },
   "file_extension": ".py",
   "mimetype": "text/x-python",
   "name": "python",
   "nbconvert_exporter": "python",
   "pygments_lexer": "ipython3",
   "version": "3.9.13"
  },
  "orig_nbformat": 4
 },
 "nbformat": 4,
 "nbformat_minor": 2
}
