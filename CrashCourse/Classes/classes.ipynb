{
 "cells": [
  {
   "cell_type": "code",
   "execution_count": 5,
   "metadata": {},
   "outputs": [
    {
     "name": "stdout",
     "output_type": "stream",
     "text": [
      "Alan Wright\n",
      "Welcome Alan\n",
      "Welcome Phil\n",
      "Login attempts: 1\n",
      "Login attempts: 2\n",
      "Login attempts: 0\n",
      "Login attempts: 1\n"
     ]
    }
   ],
   "source": [
    "class user:\n",
    "    \"A model of a user\"\n",
    "\n",
    "    def __init__(self, first_name, last_name):\n",
    "        \"Initialise name and last name attributes\"\n",
    "        self.first_name = first_name\n",
    "        self.last_name = last_name\n",
    "        self.login_attempts = 0\n",
    "    \n",
    "    def describe_user(self):\n",
    "        \"\"\"A method that prints the users name\"\"\"\n",
    "        print(self.first_name.title() + \" \" + self.last_name.title())\n",
    "    \n",
    "    def greet_user(self):\n",
    "        \"\"\"A method that prints a welcome message for the user\"\"\"\n",
    "        print(\"Welcome \" + self.first_name.title())\n",
    "    \n",
    "    def increment_login_attempts(self):\n",
    "        self.login_attempts += 1\n",
    "        print(\"Login attempts: \" + str(self.login_attempts))\n",
    "    \n",
    "    def reset_login_attempts(self):\n",
    "        self.login_attempts = 0\n",
    "        print(\"Login attempts: \" + str(self.login_attempts))\n",
    "\n",
    "\n",
    "alan = user(\"Alan\", \"Wright\")\n",
    "alan.describe_user()\n",
    "alan.greet_user()\n",
    "\n",
    "phil = user(\"Phil\", \"Tschiz\")\n",
    "phil.greet_user()\n",
    "\n",
    "phil.increment_login_attempts()\n",
    "phil.increment_login_attempts()\n",
    "phil.reset_login_attempts()\n",
    "phil.increment_login_attempts()\n"
   ]
  },
  {
   "cell_type": "code",
   "execution_count": 6,
   "metadata": {},
   "outputs": [
    {
     "name": "stdout",
     "output_type": "stream",
     "text": [
      "Great name restaurant selling Thai. Number served: 0\n",
      "Pizza Hut restaurant selling Pizza. Number served: 0\n",
      "Great name restaurant selling Thai. Number served: 0\n",
      "Great name restaurant selling Thai. Number served: 12\n",
      "Great name restaurant selling Thai. Number served: 13\n"
     ]
    }
   ],
   "source": [
    "class restaurant:\n",
    "    \"\"\"A simple attempt to model a restaurant\"\"\"\n",
    "\n",
    "    def __init__(self, name, cuisine):\n",
    "        \"\"\"Initialise name and cuisine attributes\"\"\"\n",
    "        self.name = name\n",
    "        self.cuisine = cuisine\n",
    "        self.number_served = 0\n",
    "\n",
    "    def describe_restaurant(self):\n",
    "        \"\"\"Print a statement describing the restaurant\"\"\"\n",
    "        print(self.name + \" restaurant selling \" + self.cuisine + \". Number served: \" + str(self.number_served))\n",
    "    \n",
    "    def open_restaurant(self):\n",
    "        \"\"\"Print a statement stating that the restaurant is open for business\"\"\"\n",
    "        print(self.name + \" is open for business\")\n",
    "    \n",
    "    def set_number_served(self, new_num_served):\n",
    "        \"\"\"Set the number_served value to any value\"\"\"\n",
    "        self.number_served = new_num_served\n",
    "    \n",
    "    def increment_number_served(self):\n",
    "        \"\"\"Add 1 to the number of users served\"\"\"\n",
    "        self.number_served += 1\n",
    "\n",
    "restaurant1 = restaurant(\"Great name\", \"Thai\")\n",
    "restaurant1.describe_restaurant()\n",
    "\n",
    "restaurant2 = restaurant(\"Pizza Hut\", \"Pizza\")\n",
    "restaurant2.describe_restaurant()\n",
    "\n",
    "restaurant1.describe_restaurant()\n",
    "restaurant1.set_number_served(12)\n",
    "restaurant1.describe_restaurant()\n",
    "restaurant1.increment_number_served()\n",
    "restaurant1.describe_restaurant()\n"
   ]
  },
  {
   "cell_type": "code",
   "execution_count": 7,
   "metadata": {},
   "outputs": [
    {
     "name": "stdout",
     "output_type": "stream",
     "text": [
      "The available flavors are ['Vanilla', 'Chocoloate', 'Caramel']\n"
     ]
    }
   ],
   "source": [
    "# Inheritance\n",
    "\n",
    "class IceCreamStand(restaurant):\n",
    "    \"Represents aspects of a restaurant specific to ice cream stands\"\n",
    "\n",
    "    def __init__(self, name, cuisine, flavors):\n",
    "        \"\"\"\n",
    "        Initialise attributes of parent class\n",
    "        Then initialise attributes specific to ice cream stands \n",
    "        \"\"\"\n",
    "        super().__init__(name, cuisine)\n",
    "        self.flavors = flavors\n",
    "    \n",
    "    def ShowFlavors(self):\n",
    "        \"\"\"Print the flavors available at this ice cream stand\"\"\"\n",
    "        print(\"The available flavors are \" + str(self.flavors))\n",
    "\n",
    "BenAndJerries = IceCreamStand(\"Ben and Jerries\", \"Ice Cream\", [\"Vanilla\", \"Chocoloate\", \"Caramel\"])\n",
    "BenAndJerries.ShowFlavors()\n"
   ]
  },
  {
   "cell_type": "code",
   "execution_count": 8,
   "metadata": {},
   "outputs": [
    {
     "name": "stdout",
     "output_type": "stream",
     "text": [
      "Admin privileges: ['Can add post', 'Can delete post', 'Can ban user']\n"
     ]
    }
   ],
   "source": [
    "class administrator(user):\n",
    "    \"\"\"Represents aspects of a user specific to administrators\"\"\"\n",
    "\n",
    "    def __init__(self, first_name, last_name):\n",
    "        \"\"\"\n",
    "        Initialise attributes of parent class\n",
    "        Then initialise attributes specific to ice cream stands \n",
    "        \"\"\"\n",
    "        super().__init__(first_name, last_name)\n",
    "        self.privileges = [\"Can add post\", \"Can delete post\", \"Can ban user\"]\n",
    "    \n",
    "    def show_privileges(self):\n",
    "        print(\"Admin privileges: \" + str(self.privileges))\n",
    "    \n",
    "\n",
    "alan_admin = administrator(\"Alan\", \"Wright\")\n",
    "alan_admin.show_privileges()\n",
    "\n"
   ]
  },
  {
   "cell_type": "code",
   "execution_count": 9,
   "metadata": {},
   "outputs": [
    {
     "name": "stdout",
     "output_type": "stream",
     "text": [
      "Admin privileges: ['Can add post', 'Can delete post', 'Can ban user']\n"
     ]
    }
   ],
   "source": [
    "# Rewriting above class with an instance of the privelege class being used as an attribute for the administrator one\n",
    "\n",
    "class privileges():\n",
    "    def __init__(self):\n",
    "        self.privileges = [\"Can add post\", \"Can delete post\", \"Can ban user\"]\n",
    "    \n",
    "    def show_privileges(self):\n",
    "        print(\"Admin privileges: \" + str(self.privileges))\n",
    "\n",
    "class administrator(user):\n",
    "    \"\"\"Represents aspects of a user specific to administrators\"\"\"\n",
    "\n",
    "    def __init__(self, first_name, last_name):\n",
    "        \"\"\"\n",
    "        Initialise attributes of parent class\n",
    "        Then initialise attributes specific to ice cream stands \n",
    "        \"\"\"\n",
    "        super().__init__(first_name, last_name)\n",
    "        self.privileges = privileges()\n",
    "        \n",
    "\n",
    "alan_admin = administrator(\"Alan\", \"Wright\")\n",
    "alan_admin.privileges.show_privileges()"
   ]
  },
  {
   "cell_type": "code",
   "execution_count": 10,
   "metadata": {},
   "outputs": [
    {
     "name": "stdout",
     "output_type": "stream",
     "text": [
      "This car can go approximately 240 miles on a full charge.\n",
      "This car can go approximately 270 miles on a full charge.\n"
     ]
    }
   ],
   "source": [
    "# add a method to the battery class called upgrade_battery(). Check battery size. Chnage to 85 if it isn't already. Make electric car, call get range once before and after\n",
    "\n",
    "class Car():\n",
    "    \"\"\"A simple attempt to represent a car\"\"\"\n",
    "\n",
    "    def __init__(self, make, model, year):\n",
    "        self.make = make\n",
    "        self.model = model\n",
    "        self.year = year\n",
    "        self.odometer_reading = 0\n",
    "\n",
    "    def get_descriptive_name(self):\n",
    "        long_name = str(self.year) + ' ' + self.make + ' ' + self.model\n",
    "        return long_name.title()\n",
    "    \n",
    "    def read_odometer(self):\n",
    "        print(\"This car has \" + str(self.odometer_reading) + \" miles on it.\")\n",
    "    \n",
    "    def update_odometer(self, mileage):\n",
    "        if mileage >= self.odometer_reading:\n",
    "            self.odometer_reading = mileage\n",
    "        else:\n",
    "            print(\"You can't roll back an odometer!\")\n",
    "    \n",
    "    def increment_odometer(self, miles):\n",
    "        self.odometer_reading += miles\n",
    "\n",
    "class Battery():\n",
    "    \"\"\"A simple attempt to model a battery for an electric car\"\"\"\n",
    "\n",
    "    def __init__(self, battery_size=70):\n",
    "        \"\"\"Initialise the battery's attributes\"\"\"\n",
    "        self.battery_size = battery_size\n",
    "    \n",
    "    def describe_battery(self):\n",
    "        \"\"\"Print a statement describing the battery size.\"\"\"\n",
    "        print(\"This car has a \" + str(self.battery_size) + \"-kwh battery.\")\n",
    "\n",
    "    def get_range(self):\n",
    "        \"\"\"Print a statement about the range this battery provides\"\"\"\n",
    "        if self.battery_size == 70:\n",
    "            range = 240\n",
    "        elif self.battery_size == 85:\n",
    "            range = 270\n",
    "        \n",
    "        message = \"This car can go approximately \" + str(range)\n",
    "        message += \" miles on a full charge.\"\n",
    "        print(message)\n",
    "    \n",
    "    def upgrade_battery(self):\n",
    "        self.battery_size = 85\n",
    "\n",
    "\n",
    "class ElectricCar(Car):\n",
    "    \"\"\"Represents aspects of a car, specific to electric vehicles.\"\"\"\n",
    "\n",
    "    def __init__(self, make, model, year):\n",
    "        \"\"\"\n",
    "        Initialise attributes of the parent class\n",
    "        then initialise attributes specific to an electric car\n",
    "        \"\"\"\n",
    "        super().__init__(make, model, year)\n",
    "        self.battery = Battery()\n",
    "\n",
    "\n",
    "myTesla = ElectricCar(\"Tesla\", \"Model 3\", \"2021\")\n",
    "myTesla.battery.get_range()\n",
    "myTesla.battery.upgrade_battery()\n",
    "myTesla.battery.get_range()\n",
    "\n"
   ]
  },
  {
   "cell_type": "code",
   "execution_count": null,
   "metadata": {},
   "outputs": [],
   "source": []
  }
 ],
 "metadata": {
  "kernelspec": {
   "display_name": "Python 3",
   "language": "python",
   "name": "python3"
  },
  "language_info": {
   "codemirror_mode": {
    "name": "ipython",
    "version": 3
   },
   "file_extension": ".py",
   "mimetype": "text/x-python",
   "name": "python",
   "nbconvert_exporter": "python",
   "pygments_lexer": "ipython3",
   "version": "3.9.13"
  },
  "orig_nbformat": 4
 },
 "nbformat": 4,
 "nbformat_minor": 2
}
