{
 "cells": [
  {
   "cell_type": "code",
   "execution_count": 1,
   "metadata": {},
   "outputs": [
    {
     "name": "stdout",
     "output_type": "stream",
     "text": [
      "I am learning about functions\n"
     ]
    }
   ],
   "source": [
    "def display_message():\n",
    "    print(\"I am learning about functions\")\n",
    "\n",
    "display_message()"
   ]
  },
  {
   "cell_type": "code",
   "execution_count": 2,
   "metadata": {},
   "outputs": [
    {
     "name": "stdout",
     "output_type": "stream",
     "text": [
      "One of my favourite books is Alice in Wonderland\n"
     ]
    }
   ],
   "source": [
    "# parameter = piece of info a function needs to do its job. \"Title\" is a parameter\n",
    "# argument = piece of info passed from a function call to a function. \"Alice in Wonderland\" is an argument\n",
    "# both words are often used interchangably\n",
    "\n",
    "def favorite_book(title):\n",
    "    print(\"One of my favourite books is \" + title)\n",
    "\n",
    "favorite_book(\"Alice in Wonderland\")"
   ]
  },
  {
   "cell_type": "code",
   "execution_count": 4,
   "metadata": {},
   "outputs": [
    {
     "name": "stdout",
     "output_type": "stream",
     "text": [
      "Size: Large. Text to print: call function using positional arguments\n",
      "Size: Large. Text to print: call functional using keyword arguments\n"
     ]
    }
   ],
   "source": [
    "def make_shirt(size, text):\n",
    "    print(\"Size: \" + size + \". Text to print: \" + text)\n",
    "\n",
    "make_shirt(\"Large\", \"call function using positional arguments\") # call function using positional arguments, which must appear in correct order\n",
    "make_shirt(text=\"call functional using keyword arguments\", size=\"Large\") # call functional using keyword arguments, which can appear in any order"
   ]
  },
  {
   "cell_type": "code",
   "execution_count": 5,
   "metadata": {},
   "outputs": [
    {
     "name": "stdout",
     "output_type": "stream",
     "text": [
      "Size: large. Text to print: I love python\n",
      "Size: medium. Text to print: I love python\n",
      "Size: large. Text to print: I hate python\n"
     ]
    }
   ],
   "source": [
    "# Shirts are large by default\n",
    "def make_shirt(size=\"large\", text=\"I love python\"):\n",
    "    print(\"Size: \" + size + \". Text to print: \" + text)\n",
    "\n",
    "make_shirt() # call function using default arguments\n",
    "make_shirt(size=\"medium\") # \n",
    "make_shirt(text=\"I hate python\")"
   ]
  },
  {
   "cell_type": "code",
   "execution_count": 1,
   "metadata": {},
   "outputs": [
    {
     "name": "stdout",
     "output_type": "stream",
     "text": [
      "London is in UK\n",
      "Paris is in France\n",
      "Reyjkavic is in Iceland\n"
     ]
    }
   ],
   "source": [
    "def describe_city(city, country=\"UK\"):\n",
    "    print(city + \" is in \" + country)\n",
    "\n",
    "describe_city(\"London\")\n",
    "describe_city(\"Paris\", \"France\")\n",
    "describe_city(country=\"Iceland\", city=\"Reyjkavic\")\n",
    "\n"
   ]
  },
  {
   "cell_type": "code",
   "execution_count": 3,
   "metadata": {},
   "outputs": [
    {
     "name": "stdout",
     "output_type": "stream",
     "text": [
      "London, UK\n",
      "Paris, France\n",
      "Reyjkavic, Iceland\n"
     ]
    }
   ],
   "source": [
    "def city_country(city, country):\n",
    "    return city + \", \" + country\n",
    "\n",
    "print(city_country(\"London\", \"UK\"))\n",
    "print(city_country(\"Paris\", \"France\"))\n",
    "print(city_country(\"Reyjkavic\", \"Iceland\"))\n"
   ]
  },
  {
   "cell_type": "code",
   "execution_count": 7,
   "metadata": {},
   "outputs": [
    {
     "name": "stdout",
     "output_type": "stream",
     "text": [
      "{'name': 'Nirvana', 'title': 'Nevermind'}\n",
      "{'name': 'RHCP', 'title': 'Californication', 'number_of_tracks': '14'}\n",
      "{'name': 'RHCP', 'title': 'Californication', 'number_of_tracks': '14'}\n"
     ]
    }
   ],
   "source": [
    "# Optional number_of_tracks parameter appears at end and defaults to null.  If / else statement decides how to run function depending on whether it is present\n",
    "def make_album(artist_name, album_title, number_of_tracks=\"\"):\n",
    "    if number_of_tracks: # will be True is Python identified non empty strings as True\n",
    "        return {'name': artist_name, 'title': album_title, 'number_of_tracks': number_of_tracks}\n",
    "    else:\n",
    "        return {'name': artist_name, 'title': album_title}\n",
    "\n",
    "print(make_album(\"Nirvana\", \"Nevermind\"))\n",
    "print(make_album(\"RHCP\", \"Californication\", \"14\"))\n",
    "print(make_album(\"RHCP\",number_of_tracks=\"14\",  album_title=\"Californication\"))"
   ]
  },
  {
   "cell_type": "code",
   "execution_count": 10,
   "metadata": {},
   "outputs": [
    {
     "name": "stdout",
     "output_type": "stream",
     "text": [
      "\n",
      "Please enter some info\n",
      "Press q to exit\n"
     ]
    },
    {
     "name": "stdout",
     "output_type": "stream",
     "text": [
      "{'name': 'Alan', 'title': 'Wright'}\n",
      "\n",
      "Please enter some info\n",
      "Press q to exit\n"
     ]
    }
   ],
   "source": [
    "\n",
    "def make_album(artist_name, album_title, number_of_tracks=\"\"):\n",
    "    if number_of_tracks: # will be True is Python identified non empty strings as True\n",
    "        return {'name': artist_name, 'title': album_title, 'number_of_tracks': number_of_tracks}\n",
    "    else:\n",
    "        return {'name': artist_name, 'title': album_title}\n",
    "\n",
    "# Keeps asking user to add new dictionary items until the user quits by typing \"q\"\n",
    "while True:\n",
    "    print(\"\\nPlease enter some info\")\n",
    "    print(\"Press q to exit\")\n",
    "    artist_name = input(\"Artist name: \")\n",
    "    album_title = input(\"Album title: \")\n",
    "    if artist_name == \"q\" or album_title == \"q\":\n",
    "        break\n",
    "    print(make_album(artist_name, album_title))"
   ]
  },
  {
   "cell_type": "code",
   "execution_count": 23,
   "metadata": {},
   "outputs": [
    {
     "name": "stdout",
     "output_type": "stream",
     "text": [
      "Merlin\n",
      "Harry\n",
      "Gandalf\n",
      "Merlin the great\n",
      "Harry the great\n",
      "Gandalf the great\n"
     ]
    }
   ],
   "source": [
    "magician_names = [\"Merlin\", \"Harry\", \"Gandalf\"]\n",
    "unused_magician_names = [\"Merlin\", \"Harry\", \"Gandalf\"]\n",
    "\n",
    "def show_magicians(names):\n",
    "    for name in names:\n",
    "        print(name)\n",
    "\n",
    "def make_great(names):\n",
    "   for i in range(len(names)):\n",
    "        names[i] = names[i] + \" the great\"\n",
    "   return names\n",
    "\n",
    "new_names = make_great(magician_names[:]) # Use [:] to avoid editing existing list\n",
    "show_magicians(magician_names)\n",
    "show_magicians(new_names)"
   ]
  },
  {
   "cell_type": "code",
   "execution_count": 26,
   "metadata": {},
   "outputs": [
    {
     "name": "stdout",
     "output_type": "stream",
     "text": [
      "\n",
      "ham\n",
      "\n",
      "ham\n",
      "cheese\n"
     ]
    }
   ],
   "source": [
    "# arbitrary number of arguments\n",
    "def sandwich(*items):\n",
    "    print(\"\")\n",
    "    for item in items:\n",
    "        print(item)\n",
    "\n",
    "sandwich(\"ham\")\n",
    "sandwich(\"ham\", \"cheese\")"
   ]
  },
  {
   "cell_type": "code",
   "execution_count": 29,
   "metadata": {},
   "outputs": [
    {
     "name": "stdout",
     "output_type": "stream",
     "text": [
      "{'first_name': 'Alan', 'second_name': 'Wright', 'location': 'princeton', 'field': 'physics'}\n"
     ]
    }
   ],
   "source": [
    "# arbitrary and keyword arguments\n",
    "def build_profile(first, last, **user_info): # arbitrary arguments always go at end of list\n",
    "    profile = {}\n",
    "    profile['first_name'] = first\n",
    "    profile['second_name'] = last\n",
    "    for key, value in user_info.items():\n",
    "        profile[key] = value\n",
    "    return profile\n",
    "\n",
    "user_profile = build_profile('Alan', 'Wright', location='princeton', field='physics')\n",
    "print(user_profile)\n"
   ]
  },
  {
   "cell_type": "code",
   "execution_count": 31,
   "metadata": {},
   "outputs": [
    {
     "name": "stdout",
     "output_type": "stream",
     "text": [
      "{'manufacturer': 'subaru', 'model_name': 'outback', 'color': 'blue', 'tow_package': True}\n"
     ]
    }
   ],
   "source": [
    "# arbitrary and keyword arguments\n",
    "def make_car(manufacturer, model_name, **car_info): # arbitrary arguments always go at end of list\n",
    "    profile = {}\n",
    "    profile['manufacturer'] = manufacturer\n",
    "    profile['model_name'] = model_name\n",
    "    for key, value in car_info.items():\n",
    "        profile[key] = value\n",
    "    return profile\n",
    "\n",
    "car = make_car('subaru', 'outback', color='blue', tow_package=True)\n",
    "print(car)"
   ]
  },
  {
   "attachments": {},
   "cell_type": "markdown",
   "metadata": {},
   "source": [
    "### Different ways of importing functions\n",
    "\n",
    "#### Import entire module\n",
    "import module_name\n",
    "module_name.function(parameter)\n",
    "\n",
    "#### Import specific functions\n",
    "from module_name import function_name\n",
    "function(parameter)\n",
    "\n",
    "#### Using as to give a function an alias\n",
    "from module_name import function_name as fn\n",
    "fn(parameter)\n",
    "\n",
    "#### Using as to give a module an alias\n",
    "import module_name as mn\n",
    "mn.function(parameter)\n",
    "\n",
    "#### Importing all modules in a function\n",
    "from module_name import *"
   ]
  },
  {
   "cell_type": "code",
   "execution_count": 34,
   "metadata": {},
   "outputs": [
    {
     "name": "stdout",
     "output_type": "stream",
     "text": [
      "Alan\n",
      "Steve\n",
      "Paul\n"
     ]
    }
   ],
   "source": [
    "import functions_ImportFunctions\n",
    "\n",
    "names = [\"Alan\", \"Steve\", \"Paul\"]\n",
    "\n",
    "functions_ImportFunctions.show_names(names)"
   ]
  }
 ],
 "metadata": {
  "kernelspec": {
   "display_name": "Python 3",
   "language": "python",
   "name": "python3"
  },
  "language_info": {
   "codemirror_mode": {
    "name": "ipython",
    "version": 3
   },
   "file_extension": ".py",
   "mimetype": "text/x-python",
   "name": "python",
   "nbconvert_exporter": "python",
   "pygments_lexer": "ipython3",
   "version": "3.9.13"
  },
  "orig_nbformat": 4
 },
 "nbformat": 4,
 "nbformat_minor": 2
}
