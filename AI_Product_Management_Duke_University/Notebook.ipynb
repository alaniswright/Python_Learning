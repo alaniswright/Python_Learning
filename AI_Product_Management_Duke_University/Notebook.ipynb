{
 "cells": [
  {
   "cell_type": "markdown",
   "id": "57cb448f",
   "metadata": {},
   "source": [
    "# My solution\n",
    "\n",
    "I start by getting the data into a pandas dataframe and doing some exploratory data analysis"
   ]
  },
  {
   "cell_type": "markdown",
   "id": "d01f8419",
   "metadata": {},
   "source": [
    "## Exploratory data analysis"
   ]
  },
  {
   "cell_type": "code",
   "execution_count": 101,
   "id": "eb0af1d5",
   "metadata": {},
   "outputs": [
    {
     "data": {
      "application/vnd.microsoft.datawrangler.viewer.v0+json": {
       "columns": [
        {
         "name": "index",
         "rawType": "int64",
         "type": "integer"
        },
        {
         "name": "AT",
         "rawType": "float64",
         "type": "float"
        },
        {
         "name": "V",
         "rawType": "float64",
         "type": "float"
        },
        {
         "name": "AP",
         "rawType": "float64",
         "type": "float"
        },
        {
         "name": "RH",
         "rawType": "float64",
         "type": "float"
        },
        {
         "name": "PE",
         "rawType": "float64",
         "type": "float"
        }
       ],
       "ref": "bb4637f4-3a37-41eb-ae22-f2613f1c9508",
       "rows": [
        [
         "0",
         "14.96",
         "41.76",
         "1024.07",
         "73.17",
         "463.26"
        ],
        [
         "1",
         "25.18",
         "62.96",
         "1020.04",
         "59.08",
         "444.37"
        ],
        [
         "2",
         "5.11",
         "39.4",
         "1012.16",
         "92.14",
         "488.56"
        ],
        [
         "3",
         "20.86",
         "57.32",
         "1010.24",
         "76.64",
         "446.48"
        ],
        [
         "4",
         "10.82",
         "37.5",
         "1009.23",
         "96.62",
         "473.9"
        ]
       ],
       "shape": {
        "columns": 5,
        "rows": 5
       }
      },
      "text/html": [
       "<div>\n",
       "<style scoped>\n",
       "    .dataframe tbody tr th:only-of-type {\n",
       "        vertical-align: middle;\n",
       "    }\n",
       "\n",
       "    .dataframe tbody tr th {\n",
       "        vertical-align: top;\n",
       "    }\n",
       "\n",
       "    .dataframe thead th {\n",
       "        text-align: right;\n",
       "    }\n",
       "</style>\n",
       "<table border=\"1\" class=\"dataframe\">\n",
       "  <thead>\n",
       "    <tr style=\"text-align: right;\">\n",
       "      <th></th>\n",
       "      <th>AT</th>\n",
       "      <th>V</th>\n",
       "      <th>AP</th>\n",
       "      <th>RH</th>\n",
       "      <th>PE</th>\n",
       "    </tr>\n",
       "  </thead>\n",
       "  <tbody>\n",
       "    <tr>\n",
       "      <th>0</th>\n",
       "      <td>14.96</td>\n",
       "      <td>41.76</td>\n",
       "      <td>1024.07</td>\n",
       "      <td>73.17</td>\n",
       "      <td>463.26</td>\n",
       "    </tr>\n",
       "    <tr>\n",
       "      <th>1</th>\n",
       "      <td>25.18</td>\n",
       "      <td>62.96</td>\n",
       "      <td>1020.04</td>\n",
       "      <td>59.08</td>\n",
       "      <td>444.37</td>\n",
       "    </tr>\n",
       "    <tr>\n",
       "      <th>2</th>\n",
       "      <td>5.11</td>\n",
       "      <td>39.40</td>\n",
       "      <td>1012.16</td>\n",
       "      <td>92.14</td>\n",
       "      <td>488.56</td>\n",
       "    </tr>\n",
       "    <tr>\n",
       "      <th>3</th>\n",
       "      <td>20.86</td>\n",
       "      <td>57.32</td>\n",
       "      <td>1010.24</td>\n",
       "      <td>76.64</td>\n",
       "      <td>446.48</td>\n",
       "    </tr>\n",
       "    <tr>\n",
       "      <th>4</th>\n",
       "      <td>10.82</td>\n",
       "      <td>37.50</td>\n",
       "      <td>1009.23</td>\n",
       "      <td>96.62</td>\n",
       "      <td>473.90</td>\n",
       "    </tr>\n",
       "  </tbody>\n",
       "</table>\n",
       "</div>"
      ],
      "text/plain": [
       "      AT      V       AP     RH      PE\n",
       "0  14.96  41.76  1024.07  73.17  463.26\n",
       "1  25.18  62.96  1020.04  59.08  444.37\n",
       "2   5.11  39.40  1012.16  92.14  488.56\n",
       "3  20.86  57.32  1010.24  76.64  446.48\n",
       "4  10.82  37.50  1009.23  96.62  473.90"
      ]
     },
     "execution_count": 101,
     "metadata": {},
     "output_type": "execute_result"
    }
   ],
   "source": [
    "import pandas as pd\n",
    "\n",
    "data = pd.read_csv(\"CCPP_data.csv\")\n",
    "data.head()"
   ]
  },
  {
   "cell_type": "code",
   "execution_count": 102,
   "id": "eeadcc06",
   "metadata": {},
   "outputs": [
    {
     "data": {
      "application/vnd.microsoft.datawrangler.viewer.v0+json": {
       "columns": [
        {
         "name": "index",
         "rawType": "object",
         "type": "string"
        },
        {
         "name": "AT",
         "rawType": "float64",
         "type": "float"
        },
        {
         "name": "V",
         "rawType": "float64",
         "type": "float"
        },
        {
         "name": "AP",
         "rawType": "float64",
         "type": "float"
        },
        {
         "name": "RH",
         "rawType": "float64",
         "type": "float"
        },
        {
         "name": "PE",
         "rawType": "float64",
         "type": "float"
        }
       ],
       "ref": "94f9ad00-04b5-4b7c-9924-bb0541a4ba62",
       "rows": [
        [
         "count",
         "9568.0",
         "9568.0",
         "9568.0",
         "9568.0",
         "9568.0"
        ],
        [
         "mean",
         "19.651231187290968",
         "54.30580372073579",
         "1013.2590781772575",
         "73.30897784280937",
         "454.36500940635455"
        ],
        [
         "std",
         "7.452473229611079",
         "12.707892998326809",
         "5.938783705811607",
         "14.600268756728955",
         "17.06699499980342"
        ],
        [
         "min",
         "1.81",
         "25.36",
         "992.89",
         "25.56",
         "420.26"
        ],
        [
         "25%",
         "13.51",
         "41.74",
         "1009.1",
         "63.3275",
         "439.75"
        ],
        [
         "50%",
         "20.345",
         "52.08",
         "1012.94",
         "74.975",
         "451.54999999999995"
        ],
        [
         "75%",
         "25.72",
         "66.54",
         "1017.26",
         "84.83",
         "468.43"
        ],
        [
         "max",
         "37.11",
         "81.56",
         "1033.3",
         "100.16",
         "495.76"
        ]
       ],
       "shape": {
        "columns": 5,
        "rows": 8
       }
      },
      "text/html": [
       "<div>\n",
       "<style scoped>\n",
       "    .dataframe tbody tr th:only-of-type {\n",
       "        vertical-align: middle;\n",
       "    }\n",
       "\n",
       "    .dataframe tbody tr th {\n",
       "        vertical-align: top;\n",
       "    }\n",
       "\n",
       "    .dataframe thead th {\n",
       "        text-align: right;\n",
       "    }\n",
       "</style>\n",
       "<table border=\"1\" class=\"dataframe\">\n",
       "  <thead>\n",
       "    <tr style=\"text-align: right;\">\n",
       "      <th></th>\n",
       "      <th>AT</th>\n",
       "      <th>V</th>\n",
       "      <th>AP</th>\n",
       "      <th>RH</th>\n",
       "      <th>PE</th>\n",
       "    </tr>\n",
       "  </thead>\n",
       "  <tbody>\n",
       "    <tr>\n",
       "      <th>count</th>\n",
       "      <td>9568.000000</td>\n",
       "      <td>9568.000000</td>\n",
       "      <td>9568.000000</td>\n",
       "      <td>9568.000000</td>\n",
       "      <td>9568.000000</td>\n",
       "    </tr>\n",
       "    <tr>\n",
       "      <th>mean</th>\n",
       "      <td>19.651231</td>\n",
       "      <td>54.305804</td>\n",
       "      <td>1013.259078</td>\n",
       "      <td>73.308978</td>\n",
       "      <td>454.365009</td>\n",
       "    </tr>\n",
       "    <tr>\n",
       "      <th>std</th>\n",
       "      <td>7.452473</td>\n",
       "      <td>12.707893</td>\n",
       "      <td>5.938784</td>\n",
       "      <td>14.600269</td>\n",
       "      <td>17.066995</td>\n",
       "    </tr>\n",
       "    <tr>\n",
       "      <th>min</th>\n",
       "      <td>1.810000</td>\n",
       "      <td>25.360000</td>\n",
       "      <td>992.890000</td>\n",
       "      <td>25.560000</td>\n",
       "      <td>420.260000</td>\n",
       "    </tr>\n",
       "    <tr>\n",
       "      <th>25%</th>\n",
       "      <td>13.510000</td>\n",
       "      <td>41.740000</td>\n",
       "      <td>1009.100000</td>\n",
       "      <td>63.327500</td>\n",
       "      <td>439.750000</td>\n",
       "    </tr>\n",
       "    <tr>\n",
       "      <th>50%</th>\n",
       "      <td>20.345000</td>\n",
       "      <td>52.080000</td>\n",
       "      <td>1012.940000</td>\n",
       "      <td>74.975000</td>\n",
       "      <td>451.550000</td>\n",
       "    </tr>\n",
       "    <tr>\n",
       "      <th>75%</th>\n",
       "      <td>25.720000</td>\n",
       "      <td>66.540000</td>\n",
       "      <td>1017.260000</td>\n",
       "      <td>84.830000</td>\n",
       "      <td>468.430000</td>\n",
       "    </tr>\n",
       "    <tr>\n",
       "      <th>max</th>\n",
       "      <td>37.110000</td>\n",
       "      <td>81.560000</td>\n",
       "      <td>1033.300000</td>\n",
       "      <td>100.160000</td>\n",
       "      <td>495.760000</td>\n",
       "    </tr>\n",
       "  </tbody>\n",
       "</table>\n",
       "</div>"
      ],
      "text/plain": [
       "                AT            V           AP           RH           PE\n",
       "count  9568.000000  9568.000000  9568.000000  9568.000000  9568.000000\n",
       "mean     19.651231    54.305804  1013.259078    73.308978   454.365009\n",
       "std       7.452473    12.707893     5.938784    14.600269    17.066995\n",
       "min       1.810000    25.360000   992.890000    25.560000   420.260000\n",
       "25%      13.510000    41.740000  1009.100000    63.327500   439.750000\n",
       "50%      20.345000    52.080000  1012.940000    74.975000   451.550000\n",
       "75%      25.720000    66.540000  1017.260000    84.830000   468.430000\n",
       "max      37.110000    81.560000  1033.300000   100.160000   495.760000"
      ]
     },
     "execution_count": 102,
     "metadata": {},
     "output_type": "execute_result"
    }
   ],
   "source": [
    "data.describe()"
   ]
  },
  {
   "cell_type": "code",
   "execution_count": 103,
   "id": "5a2b2d83",
   "metadata": {},
   "outputs": [
    {
     "name": "stdout",
     "output_type": "stream",
     "text": [
      "<class 'pandas.core.frame.DataFrame'>\n",
      "RangeIndex: 9568 entries, 0 to 9567\n",
      "Data columns (total 5 columns):\n",
      " #   Column  Non-Null Count  Dtype  \n",
      "---  ------  --------------  -----  \n",
      " 0   AT      9568 non-null   float64\n",
      " 1   V       9568 non-null   float64\n",
      " 2   AP      9568 non-null   float64\n",
      " 3   RH      9568 non-null   float64\n",
      " 4   PE      9568 non-null   float64\n",
      "dtypes: float64(5)\n",
      "memory usage: 373.9 KB\n"
     ]
    }
   ],
   "source": [
    "data.info()"
   ]
  },
  {
   "cell_type": "code",
   "execution_count": 104,
   "id": "3730142c",
   "metadata": {},
   "outputs": [
    {
     "data": {
      "image/png": "[encoded data removed]",
      "text/plain": [
       "<Figure size 640x480 with 2 Axes>"
      ]
     },
     "metadata": {},
     "output_type": "display_data"
    }
   ],
   "source": [
    "corr_matrix = data.corr()\n",
    "\n",
    "import matplotlib.pyplot as plt\n",
    "import seaborn as sns\n",
    "\n",
    "plt.figsize=(10,8)\n",
    "sns.heatmap(corr_matrix, annot=True)\n",
    "plt.title('Correlation Heatmap between Variables')\n",
    "plt.show()\n"
   ]
  },
  {
   "cell_type": "markdown",
   "id": "bb686660",
   "metadata": {},
   "source": [
    "## Results of Exploratory Data Analysis\n",
    "\n",
    "1. Five numerical variables with high variance in range & scale\n",
    "2. Zero null values in dataset\n",
    "3. High correlations exist between:\n",
    "    - V & AT (0.84)\n",
    "    - PE & AT (-0.95)\n",
    "    - PE & V (-0.87)\n",
    "\n"
   ]
  },
  {
   "cell_type": "markdown",
   "id": "8d03e522",
   "metadata": {},
   "source": [
    "## Prepare the data\n",
    "\n",
    "Features: AT, V, AP, RH\n",
    "\n",
    "Target: PE - Net hourly electrical energy output"
   ]
  },
  {
   "cell_type": "code",
   "execution_count": 105,
   "id": "b59e4c8a",
   "metadata": {},
   "outputs": [],
   "source": [
    "# Separate into features and target data\n",
    "\n",
    "X = data[['AT','V','AP','RH']]\n",
    "y = data['PE']\n",
    "\n",
    "from sklearn.preprocessing import StandardScaler\n",
    "from sklearn.model_selection import train_test_split\n",
    "from sklearn.metrics import mean_squared_error, r2_score\n",
    "\n",
    "# Split the data\n",
    "X_train, X_test, y_train, y_test = train_test_split(X, y, test_size=0.2, random_state=42)\n",
    "\n",
    "# Scale the training data only\n",
    "scaler = StandardScaler()\n",
    "X_train_scaled = scaler.fit_transform(X_train)\n",
    "\n"
   ]
  },
  {
   "cell_type": "markdown",
   "id": "cd5af577",
   "metadata": {},
   "source": [
    "## Model 1: Linear regression\n",
    "\n",
    "I will start out with linear regression. This is a good base model to start with as it is explainable, and allows me to understand the influence of each varable on the target value. As a simple model it is a good starting point."
   ]
  },
  {
   "cell_type": "code",
   "execution_count": 106,
   "id": "fa065804",
   "metadata": {},
   "outputs": [
    {
     "name": "stdout",
     "output_type": "stream",
     "text": [
      "TRAINING PERFORMANCE\n",
      "Root Mean Squared Error (RMSE): 20.89\n",
      "R-squared (R2): 0.93\n",
      "TEST PERFORMANCE\n",
      "Root Mean Squared Error (RMSE): 20.27\n",
      "R-squared (R2): 0.93\n"
     ]
    }
   ],
   "source": [
    "# Linear regression\n",
    "\n",
    "# Train model on scaled training data\n",
    "from sklearn.linear_model import LinearRegression\n",
    "\n",
    "model = LinearRegression()\n",
    "model.fit(X_train_scaled, y_train)\n",
    "\n",
    "# Predict and evaluate based on training data\n",
    "y_train_pred = model.predict(X_train_scaled)\n",
    "rmse = mean_squared_error(y_train, y_train_pred)\n",
    "r2 = r2_score(y_train, y_train_pred)\n",
    "\n",
    "print(\"TRAINING PERFORMANCE\")\n",
    "print(f'Root Mean Squared Error (RMSE): {rmse:.2f}')\n",
    "print(f'R-squared (R2): {r2:.2f}')\n",
    "\n",
    "# Scale the test data\n",
    "X_test_scaled = scaler.transform(X_test)\n",
    "\n",
    "# Predict and evaluate\n",
    "y_pred = model.predict(X_test_scaled)\n",
    "rmse = mean_squared_error(y_test, y_pred)\n",
    "r2 = r2_score(y_test, y_pred)\n",
    "\n",
    "print(\"TEST PERFORMANCE\")\n",
    "print(f'Root Mean Squared Error (RMSE): {rmse:.2f}')\n",
    "print(f'R-squared (R2): {r2:.2f}')\n",
    "\n"
   ]
  },
  {
   "cell_type": "markdown",
   "id": "ffe49d68",
   "metadata": {},
   "source": [
    "### Linear regression results\n",
    "\n",
    "R-squared value of 0.93 is a good start\n",
    "\n",
    "It is likely that there are non linear relationships between these features and the target \n",
    "\n"
   ]
  },
  {
   "cell_type": "markdown",
   "id": "731e7770",
   "metadata": {},
   "source": [
    "## Model 2: Decision Tree\n",
    "\n",
    "Next I will try a decision tree, as it enables me to explore non linear relationships and is still easily explainable"
   ]
  },
  {
   "cell_type": "code",
   "execution_count": 107,
   "id": "52a25874",
   "metadata": {},
   "outputs": [
    {
     "name": "stdout",
     "output_type": "stream",
     "text": [
      "TRAINING PERFORMANCE\n",
      "Root Mean Squared Error (RMSE): 0.00\n",
      "R-squared (R2): 1.00\n",
      "TEST PERFORMANCE\n",
      "Root Mean Squared Error (RMSE): 19.64\n",
      "R-squared (R2): 0.93\n"
     ]
    }
   ],
   "source": [
    "# Decision tree\n",
    "from sklearn.tree import DecisionTreeRegressor\n",
    "\n",
    "# Train model on scaled training data\n",
    "model = DecisionTreeRegressor(random_state=42)\n",
    "model.fit(X_train_scaled, y_train)\n",
    "\n",
    "# Predict and evaluate based on training data\n",
    "y_train_pred = model.predict(X_train_scaled)\n",
    "rmse = mean_squared_error(y_train, y_train_pred)\n",
    "r2 = r2_score(y_train, y_train_pred)\n",
    "\n",
    "print(\"TRAINING PERFORMANCE\")\n",
    "print(f'Root Mean Squared Error (RMSE): {rmse:.2f}')\n",
    "print(f'R-squared (R2): {r2:.2f}')\n",
    "\n",
    "# Scale the test data\n",
    "X_test_scaled = scaler.transform(X_test)\n",
    "\n",
    "# Predict and evaluate\n",
    "y_pred = model.predict(X_test_scaled)\n",
    "rmse = mean_squared_error(y_test, y_pred)\n",
    "r2 = r2_score(y_test, y_pred)\n",
    "\n",
    "print(\"TEST PERFORMANCE\")\n",
    "print(f'Root Mean Squared Error (RMSE): {rmse:.2f}')\n",
    "print(f'R-squared (R2): {r2:.2f}')"
   ]
  },
  {
   "cell_type": "markdown",
   "id": "df25cf02",
   "metadata": {},
   "source": [
    "### Decision tree results\n",
    "\n",
    "R-squared value of 1.00 is good. Too good\n",
    "\n",
    "Test performance drops off considerably to 0.93, indicating that this model suffered from overfitting\n"
   ]
  },
  {
   "cell_type": "markdown",
   "id": "874148c6",
   "metadata": {},
   "source": [
    "## Model 3: Random forest\n",
    "\n",
    "The third and final model I will try is Random Forest. It handles complex non linear relationships well and is less likely to overfit"
   ]
  },
  {
   "cell_type": "code",
   "execution_count": 108,
   "id": "3c23701c",
   "metadata": {},
   "outputs": [
    {
     "name": "stdout",
     "output_type": "stream",
     "text": [
      "TRAINING PERFORMANCE\n",
      "Root Mean Squared Error (RMSE): 1.64\n",
      "R-squared (R2): 0.99\n",
      "TEST PERFORMANCE\n",
      "Root Mean Squared Error (RMSE): 10.52\n",
      "R-squared (R2): 0.96\n"
     ]
    }
   ],
   "source": [
    "# Random forest\n",
    "from sklearn.ensemble import RandomForestRegressor\n",
    "\n",
    "# Train model on scaled training data\n",
    "model = RandomForestRegressor(n_estimators=100, random_state=42)\n",
    "model.fit(X_train_scaled, y_train)\n",
    "\n",
    "# Predict and evaluate based on training data\n",
    "y_train_pred = model.predict(X_train_scaled)\n",
    "rmse = mean_squared_error(y_train, y_train_pred)\n",
    "r2 = r2_score(y_train, y_train_pred)\n",
    "\n",
    "print(\"TRAINING PERFORMANCE\")\n",
    "print(f'Root Mean Squared Error (RMSE): {rmse:.2f}')\n",
    "print(f'R-squared (R2): {r2:.2f}')\n",
    "\n",
    "# Scale the test data\n",
    "X_test_scaled = scaler.transform(X_test)\n",
    "\n",
    "# Predict and evaluate\n",
    "y_pred = model.predict(X_test_scaled)\n",
    "rmse = mean_squared_error(y_test, y_pred)\n",
    "r2 = r2_score(y_test, y_pred)\n",
    "\n",
    "print(\"TEST PERFORMANCE\")\n",
    "print(f'Root Mean Squared Error (RMSE): {rmse:.2f}')\n",
    "print(f'R-squared (R2): {r2:.2f}')"
   ]
  },
  {
   "cell_type": "markdown",
   "id": "59c23eee",
   "metadata": {},
   "source": [
    "### Random forest results\n",
    "\n",
    "R-squared value of 0.96 is the best results I have achieved across all three models\n",
    "\n",
    "96% of the variance in the target variable is predictable from the features"
   ]
  }
 ],
 "metadata": {
  "kernelspec": {
   "display_name": "venv",
   "language": "python",
   "name": "python3"
  },
  "language_info": {
   "codemirror_mode": {
    "name": "ipython",
    "version": 3
   },
   "file_extension": ".py",
   "mimetype": "text/x-python",
   "name": "python",
   "nbconvert_exporter": "python",
   "pygments_lexer": "ipython3",
   "version": "3.12.11"
  }
 },
 "nbformat": 4,
 "nbformat_minor": 5
}
